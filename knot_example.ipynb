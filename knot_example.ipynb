{
  "cells": [
    {
      "cell_type": "code",
      "execution_count": 2,
      "metadata": {
        "colab": {
          "base_uri": "https://localhost:8080/"
        },
        "id": "hn0HIMEm29Yb",
        "outputId": "e0d0883b-b2be-4a54-89e3-cd0b12a7abd4"
      },
      "outputs": [
        {
          "name": "stdout",
          "output_type": "stream",
          "text": [
            "The autoreload extension is already loaded. To reload it, use:\n",
            "  %reload_ext autoreload\n"
          ]
        }
      ],
      "source": [
        "%load_ext autoreload\n",
        "%autoreload 2"
      ]
    },
    {
      "cell_type": "code",
      "execution_count": 3,
      "metadata": {},
      "outputs": [
        {
          "name": "stdout",
          "output_type": "stream",
          "text": [
            "Collecting git+https://github.com/bbeatrix/knpy.git\n",
            "  Cloning https://github.com/bbeatrix/knpy.git to c:\\users\\vince\\appdata\\local\\temp\\pip-req-build-4jouoi47\n",
            "  Resolved https://github.com/bbeatrix/knpy.git to commit 1c9d69e577de131b2cee0b837108a79c0a2d56cb\n",
            "  Preparing metadata (setup.py): started\n",
            "  Preparing metadata (setup.py): finished with status 'done'\n",
            "Requirement already satisfied: torch in c:\\users\\vince\\miniconda3\\envs\\knpy\\lib\\site-packages (from knpy==0.1) (2.3.0)\n",
            "Requirement already satisfied: numpy in c:\\users\\vince\\miniconda3\\envs\\knpy\\lib\\site-packages (from knpy==0.1) (1.26.4)\n",
            "Requirement already satisfied: braidvisualiser in c:\\users\\vince\\miniconda3\\envs\\knpy\\lib\\site-packages (from knpy==0.1) (0.2.2)\n",
            "Requirement already satisfied: pytest in c:\\users\\vince\\miniconda3\\envs\\knpy\\lib\\site-packages (from knpy==0.1) (8.3.3)\n",
            "Requirement already satisfied: matplotlib<4.0.0,>=3.8.2 in c:\\users\\vince\\miniconda3\\envs\\knpy\\lib\\site-packages (from braidvisualiser->knpy==0.1) (3.9.2)\n",
            "Requirement already satisfied: iniconfig in c:\\users\\vince\\miniconda3\\envs\\knpy\\lib\\site-packages (from pytest->knpy==0.1) (2.0.0)\n",
            "Requirement already satisfied: packaging in c:\\users\\vince\\miniconda3\\envs\\knpy\\lib\\site-packages (from pytest->knpy==0.1) (24.1)\n",
            "Requirement already satisfied: pluggy<2,>=1.5 in c:\\users\\vince\\miniconda3\\envs\\knpy\\lib\\site-packages (from pytest->knpy==0.1) (1.5.0)\n",
            "Requirement already satisfied: colorama in c:\\users\\vince\\miniconda3\\envs\\knpy\\lib\\site-packages (from pytest->knpy==0.1) (0.4.6)\n",
            "Requirement already satisfied: filelock in c:\\users\\vince\\miniconda3\\envs\\knpy\\lib\\site-packages (from torch->knpy==0.1) (3.13.1)\n",
            "Requirement already satisfied: typing-extensions>=4.8.0 in c:\\users\\vince\\miniconda3\\envs\\knpy\\lib\\site-packages (from torch->knpy==0.1) (4.12.2)\n",
            "Requirement already satisfied: sympy in c:\\users\\vince\\miniconda3\\envs\\knpy\\lib\\site-packages (from torch->knpy==0.1) (1.13.2)\n",
            "Requirement already satisfied: networkx in c:\\users\\vince\\miniconda3\\envs\\knpy\\lib\\site-packages (from torch->knpy==0.1) (3.3)\n",
            "Requirement already satisfied: jinja2 in c:\\users\\vince\\miniconda3\\envs\\knpy\\lib\\site-packages (from torch->knpy==0.1) (3.1.4)\n",
            "Requirement already satisfied: fsspec in c:\\users\\vince\\miniconda3\\envs\\knpy\\lib\\site-packages (from torch->knpy==0.1) (2024.6.1)\n",
            "Requirement already satisfied: contourpy>=1.0.1 in c:\\users\\vince\\miniconda3\\envs\\knpy\\lib\\site-packages (from matplotlib<4.0.0,>=3.8.2->braidvisualiser->knpy==0.1) (1.3.0)\n",
            "Requirement already satisfied: cycler>=0.10 in c:\\users\\vince\\miniconda3\\envs\\knpy\\lib\\site-packages (from matplotlib<4.0.0,>=3.8.2->braidvisualiser->knpy==0.1) (0.12.1)\n",
            "Requirement already satisfied: fonttools>=4.22.0 in c:\\users\\vince\\miniconda3\\envs\\knpy\\lib\\site-packages (from matplotlib<4.0.0,>=3.8.2->braidvisualiser->knpy==0.1) (4.54.1)\n",
            "Requirement already satisfied: kiwisolver>=1.3.1 in c:\\users\\vince\\miniconda3\\envs\\knpy\\lib\\site-packages (from matplotlib<4.0.0,>=3.8.2->braidvisualiser->knpy==0.1) (1.4.7)\n",
            "Requirement already satisfied: pillow>=8 in c:\\users\\vince\\miniconda3\\envs\\knpy\\lib\\site-packages (from matplotlib<4.0.0,>=3.8.2->braidvisualiser->knpy==0.1) (11.0.0)\n",
            "Requirement already satisfied: pyparsing>=2.3.1 in c:\\users\\vince\\miniconda3\\envs\\knpy\\lib\\site-packages (from matplotlib<4.0.0,>=3.8.2->braidvisualiser->knpy==0.1) (3.2.0)\n",
            "Requirement already satisfied: python-dateutil>=2.7 in c:\\users\\vince\\miniconda3\\envs\\knpy\\lib\\site-packages (from matplotlib<4.0.0,>=3.8.2->braidvisualiser->knpy==0.1) (2.9.0)\n",
            "Requirement already satisfied: MarkupSafe>=2.0 in c:\\users\\vince\\miniconda3\\envs\\knpy\\lib\\site-packages (from jinja2->torch->knpy==0.1) (2.1.3)\n",
            "Requirement already satisfied: mpmath<1.4,>=1.1.0 in c:\\users\\vince\\miniconda3\\envs\\knpy\\lib\\site-packages (from sympy->torch->knpy==0.1) (1.3.0)\n",
            "Requirement already satisfied: six>=1.5 in c:\\users\\vince\\miniconda3\\envs\\knpy\\lib\\site-packages (from python-dateutil>=2.7->matplotlib<4.0.0,>=3.8.2->braidvisualiser->knpy==0.1) (1.16.0)\n"
          ]
        },
        {
          "name": "stderr",
          "output_type": "stream",
          "text": [
            "  Running command git clone --filter=blob:none --quiet https://github.com/bbeatrix/knpy.git 'C:\\Users\\vince\\AppData\\Local\\Temp\\pip-req-build-4jouoi47'\n"
          ]
        }
      ],
      "source": [
        "! pip install git+https://github.com/bbeatrix/knpy.git"
      ]
    },
    {
      "cell_type": "code",
      "execution_count": 4,
      "metadata": {},
      "outputs": [],
      "source": [
        "#! pip install . \n",
        "# Local installation"
      ]
    },
    {
      "cell_type": "code",
      "execution_count": 5,
      "metadata": {
        "id": "JL6jVsOV3zAO"
      },
      "outputs": [],
      "source": [
        "import knpy as kp"
      ]
    },
    {
      "cell_type": "markdown",
      "metadata": {
        "id": "mPSDSRdpVnf_"
      },
      "source": [
        "#Create Braid"
      ]
    },
    {
      "cell_type": "code",
      "execution_count": 6,
      "metadata": {
        "id": "fGkhuFTO92T6"
      },
      "outputs": [],
      "source": [
        "braid = kp.Braid(\"5_2\")"
      ]
    },
    {
      "cell_type": "code",
      "execution_count": 7,
      "metadata": {
        "colab": {
          "base_uri": "https://localhost:8080/"
        },
        "id": "VIf_99rpc7-k",
        "outputId": "b333735e-37c3-4cd0-d0ae-5cb16bb40aa9"
      },
      "outputs": [
        {
          "name": "stdout",
          "output_type": "stream",
          "text": [
            "(3, array([ 1,  1,  1,  2, -1,  2]))\n"
          ]
        }
      ],
      "source": [
        "print(braid.values()) # (minimum num of braids, braid)"
      ]
    },
    {
      "cell_type": "code",
      "execution_count": 8,
      "metadata": {
        "id": "XAPK7zpw50NK"
      },
      "outputs": [],
      "source": [
        "braid = kp.Braid([1,-1,2])"
      ]
    },
    {
      "cell_type": "code",
      "execution_count": 6,
      "metadata": {
        "colab": {
          "base_uri": "https://localhost:8080/"
        },
        "id": "Ag3a7JMFV-d5",
        "outputId": "c0ae2871-80c6-48b9-8d09-e44d31703879"
      },
      "outputs": [
        {
          "name": "stdout",
          "output_type": "stream",
          "text": [
            "(3, array([ 1, -1,  2]))\n"
          ]
        }
      ],
      "source": [
        "print(braid.values())\n"
      ]
    },
    {
      "cell_type": "markdown",
      "metadata": {},
      "source": [
        "##To_torch"
      ]
    },
    {
      "cell_type": "code",
      "execution_count": 7,
      "metadata": {
        "colab": {
          "base_uri": "https://localhost:8080/"
        },
        "id": "OsifBnEjWC0C",
        "outputId": "f10e070f-1ae3-44df-d0ee-ef4c34bfcc55"
      },
      "outputs": [
        {
          "name": "stdout",
          "output_type": "stream",
          "text": [
            "tensor([ 1, -1,  2], dtype=torch.int32)\n"
          ]
        }
      ],
      "source": [
        "print(braid.to_torch())"
      ]
    },
    {
      "cell_type": "markdown",
      "metadata": {},
      "source": [
        "##Show"
      ]
    },
    {
      "cell_type": "code",
      "execution_count": 8,
      "metadata": {
        "colab": {
          "base_uri": "https://localhost:8080/",
          "height": 805
        },
        "id": "MCLU46Av569S",
        "outputId": "42180022-4d15-43ea-9d8f-28e13740387e"
      },
      "outputs": [
        {
          "data": {
            "image/png": "[encoded data removed]",
            "text/plain": [
              "<Figure size 400x800 with 1 Axes>"
            ]
          },
          "metadata": {},
          "output_type": "display_data"
        }
      ],
      "source": [
        "braid.show()"
      ]
    },
    {
      "cell_type": "markdown",
      "metadata": {
        "id": "pUPAAjTxWM6F"
      },
      "source": [
        "#Markov moves"
      ]
    },
    {
      "cell_type": "markdown",
      "metadata": {
        "id": "dFjgFeolWWkH"
      },
      "source": [
        "##Conjugation"
      ]
    },
    {
      "cell_type": "code",
      "execution_count": 9,
      "metadata": {
        "id": "sRtgxD1MWPQ2"
      },
      "outputs": [],
      "source": [
        "braid = kp.Braid([1,-1,2,3])"
      ]
    },
    {
      "cell_type": "code",
      "execution_count": 10,
      "metadata": {
        "colab": {
          "base_uri": "https://localhost:8080/"
        },
        "id": "v21SJ5lOWfUo",
        "outputId": "37a35acd-133c-4ad0-a604-764994f66b6c"
      },
      "outputs": [
        {
          "name": "stdout",
          "output_type": "stream",
          "text": [
            "(4, array([ 3,  1, -1,  2,  3, -3]))\n"
          ]
        }
      ],
      "source": [
        "braid.conjugation(3)\n",
        "print(braid.values())"
      ]
    },
    {
      "cell_type": "markdown",
      "metadata": {
        "id": "UTg6aSusXaX7"
      },
      "source": [
        "##Stabilization"
      ]
    },
    {
      "cell_type": "code",
      "execution_count": 11,
      "metadata": {
        "id": "x2EjD4ddXc8j"
      },
      "outputs": [],
      "source": [
        "braid = kp.Braid([1,-1,2,3])"
      ]
    },
    {
      "cell_type": "code",
      "execution_count": 12,
      "metadata": {
        "colab": {
          "base_uri": "https://localhost:8080/"
        },
        "id": "X0Fj8CRaXeNV",
        "outputId": "ea8ac8d2-ee3c-411d-d5e7-b6e1fd9e720e"
      },
      "outputs": [
        {
          "name": "stdout",
          "output_type": "stream",
          "text": [
            "(5, array([ 1, -1,  2,  3,  4]))\n"
          ]
        }
      ],
      "source": [
        "braid.stabilization()\n",
        "print(braid.values())"
      ]
    },
    {
      "cell_type": "code",
      "execution_count": 13,
      "metadata": {},
      "outputs": [],
      "source": [
        "braid = kp.Braid([1,-1,2,3])"
      ]
    },
    {
      "cell_type": "code",
      "execution_count": 14,
      "metadata": {},
      "outputs": [
        {
          "name": "stdout",
          "output_type": "stream",
          "text": [
            "(5, array([ 1, -1,  2,  3, -4]))\n"
          ]
        }
      ],
      "source": [
        "braid.stabilization(inverse=True)\n",
        "print(braid.values())"
      ]
    },
    {
      "cell_type": "markdown",
      "metadata": {
        "id": "Eo13bL58X-c5"
      },
      "source": [
        "##Destabilization"
      ]
    },
    {
      "cell_type": "code",
      "execution_count": 15,
      "metadata": {
        "id": "I-RgigruYHIm"
      },
      "outputs": [],
      "source": [
        "braid = kp.Braid([1,-1,2,3])"
      ]
    },
    {
      "cell_type": "code",
      "execution_count": 16,
      "metadata": {
        "colab": {
          "base_uri": "https://localhost:8080/"
        },
        "id": "Mj3gbFpJYKdu",
        "outputId": "f4f8f4b5-bf9d-4ba1-d964-ab0860604b81"
      },
      "outputs": [
        {
          "name": "stdout",
          "output_type": "stream",
          "text": [
            "(3, array([ 1, -1,  2]))\n"
          ]
        }
      ],
      "source": [
        "braid.destabilization()\n",
        "print(braid.values())"
      ]
    },
    {
      "cell_type": "markdown",
      "metadata": {
        "id": "VRHyrUi6YfyK"
      },
      "source": [
        "#Braid relations"
      ]
    },
    {
      "cell_type": "markdown",
      "metadata": {
        "id": "RpnwsrvBYjN5"
      },
      "source": [
        "##First relation"
      ]
    },
    {
      "cell_type": "code",
      "execution_count": 17,
      "metadata": {
        "id": "aK2vEu__Ylky"
      },
      "outputs": [],
      "source": [
        "braid = kp.Braid([1,2,1,-2,1,5,5,3,4,3,7,7])"
      ]
    },
    {
      "cell_type": "code",
      "execution_count": 18,
      "metadata": {},
      "outputs": [
        {
          "name": "stdout",
          "output_type": "stream",
          "text": [
            "True\n",
            "True\n"
          ]
        }
      ],
      "source": [
        "print(braid.is_braid_relation1_performable(0))\n",
        "print(braid.is_braid_relation1_performable(2))"
      ]
    },
    {
      "cell_type": "code",
      "execution_count": 19,
      "metadata": {},
      "outputs": [
        {
          "data": {
            "text/plain": [
              "array([0, 1, 2, 7], dtype=int64)"
            ]
          },
          "execution_count": 19,
          "metadata": {},
          "output_type": "execute_result"
        }
      ],
      "source": [
        "braid.braid_relation1_performable_indices()"
      ]
    },
    {
      "cell_type": "code",
      "execution_count": 20,
      "metadata": {
        "colab": {
          "base_uri": "https://localhost:8080/"
        },
        "id": "6G9cjZuOYuph",
        "outputId": "28f3b68e-b910-42c7-de92-70941af6cda8"
      },
      "outputs": [
        {
          "name": "stdout",
          "output_type": "stream",
          "text": [
            "(8, array([ 2,  1,  2, -2,  1,  5,  5,  3,  4,  3,  7,  7]))\n"
          ]
        }
      ],
      "source": [
        "braid.braid_relation1(0)\n",
        "print(braid.values())"
      ]
    },
    {
      "cell_type": "code",
      "execution_count": 21,
      "metadata": {},
      "outputs": [],
      "source": [
        "braid = kp.Braid([1,-2,-1,3,1])"
      ]
    },
    {
      "cell_type": "code",
      "execution_count": 22,
      "metadata": {},
      "outputs": [
        {
          "name": "stdout",
          "output_type": "stream",
          "text": [
            "(4, array([-2, -1,  2,  3,  1]))\n"
          ]
        }
      ],
      "source": [
        "braid.braid_relation1(0)\n",
        "print(braid.values())"
      ]
    },
    {
      "cell_type": "markdown",
      "metadata": {
        "id": "nX2j25xgYmP6"
      },
      "source": [
        "##Second relation"
      ]
    },
    {
      "cell_type": "code",
      "execution_count": 23,
      "metadata": {
        "id": "omfzZY96Yv_p"
      },
      "outputs": [],
      "source": [
        "braid = kp.Braid([1,-1,-4,3,1])"
      ]
    },
    {
      "cell_type": "code",
      "execution_count": 24,
      "metadata": {},
      "outputs": [
        {
          "name": "stdout",
          "output_type": "stream",
          "text": [
            "False\n",
            "True\n",
            "False\n"
          ]
        }
      ],
      "source": [
        "print(braid.is_braid_relation2_performable(0))\n",
        "print(braid.is_braid_relation2_performable(1))\n",
        "print(braid.is_braid_relation2_performable(2))"
      ]
    },
    {
      "cell_type": "code",
      "execution_count": 25,
      "metadata": {},
      "outputs": [
        {
          "data": {
            "text/plain": [
              "array([1, 3], dtype=int64)"
            ]
          },
          "execution_count": 25,
          "metadata": {},
          "output_type": "execute_result"
        }
      ],
      "source": [
        "braid.braid_relation2_performable_indices()"
      ]
    },
    {
      "cell_type": "code",
      "execution_count": 26,
      "metadata": {
        "colab": {
          "base_uri": "https://localhost:8080/"
        },
        "id": "6P88TFacZFo9",
        "outputId": "9763d4f8-9200-45a2-bd95-a7cc10d2af5f"
      },
      "outputs": [
        {
          "name": "stdout",
          "output_type": "stream",
          "text": [
            "(5, array([ 1, -4, -1,  3,  1]))\n"
          ]
        }
      ],
      "source": [
        "braid.braid_relation2(1)\n",
        "print(braid.values())"
      ]
    },
    {
      "cell_type": "markdown",
      "metadata": {
        "id": "dfz92Wv6ZhCD"
      },
      "source": [
        "#Actions from the paper"
      ]
    },
    {
      "cell_type": "markdown",
      "metadata": {},
      "source": [
        "##Shifts"
      ]
    },
    {
      "cell_type": "markdown",
      "metadata": {
        "id": "cF9XD5T9Z-Yv"
      },
      "source": [
        "###Shift left\n"
      ]
    },
    {
      "cell_type": "code",
      "execution_count": 27,
      "metadata": {
        "id": "Eb8IyaT_cLKk"
      },
      "outputs": [],
      "source": [
        "braid = kp.Braid([1,-1,2,3,1])"
      ]
    },
    {
      "cell_type": "code",
      "execution_count": 28,
      "metadata": {
        "colab": {
          "base_uri": "https://localhost:8080/"
        },
        "id": "ELPFGZV_cLZs",
        "outputId": "e7439168-4614-4563-897c-a48cfd6f0497"
      },
      "outputs": [
        {
          "name": "stdout",
          "output_type": "stream",
          "text": [
            "[-1  2  3  1  1]\n",
            "(4, array([-1,  2,  3,  1,  1]))\n"
          ]
        }
      ],
      "source": [
        "braid.shift_left()\n",
        "print(braid.values())"
      ]
    },
    {
      "cell_type": "markdown",
      "metadata": {
        "id": "d9z1xJiWaCrW"
      },
      "source": [
        "###Shift right"
      ]
    },
    {
      "cell_type": "code",
      "execution_count": 29,
      "metadata": {
        "id": "NOLCuv_hcWzc"
      },
      "outputs": [],
      "source": [
        "braid = kp.Braid([1,-1,2,3,1])"
      ]
    },
    {
      "cell_type": "code",
      "execution_count": 30,
      "metadata": {
        "colab": {
          "base_uri": "https://localhost:8080/"
        },
        "id": "nLc87SGmcWzd",
        "outputId": "3a07feec-0ada-42a1-8bc7-7dee497f57f8"
      },
      "outputs": [
        {
          "name": "stdout",
          "output_type": "stream",
          "text": [
            "(4, array([ 1,  1, -1,  2,  3]))\n"
          ]
        }
      ],
      "source": [
        "braid.shift_right()\n",
        "print(braid.values())"
      ]
    },
    {
      "cell_type": "markdown",
      "metadata": {},
      "source": [
        "###Shift left with amount"
      ]
    },
    {
      "cell_type": "code",
      "execution_count": 31,
      "metadata": {},
      "outputs": [],
      "source": [
        "braid = kp.Braid([1,-1,2,3,1])"
      ]
    },
    {
      "cell_type": "code",
      "execution_count": 32,
      "metadata": {},
      "outputs": [
        {
          "name": "stdout",
          "output_type": "stream",
          "text": [
            "(4, array([ 2,  3,  1,  1, -1]))\n"
          ]
        }
      ],
      "source": [
        "braid.shift_left_with_amount(amount=2)\n",
        "print(braid.values())"
      ]
    },
    {
      "cell_type": "markdown",
      "metadata": {},
      "source": [
        "###Shift right with amount"
      ]
    },
    {
      "cell_type": "code",
      "execution_count": 33,
      "metadata": {},
      "outputs": [],
      "source": [
        "braid = kp.Braid([1,-1,2,3,1])"
      ]
    },
    {
      "cell_type": "code",
      "execution_count": 34,
      "metadata": {},
      "outputs": [
        {
          "name": "stdout",
          "output_type": "stream",
          "text": [
            "(4, array([ 2,  3,  1,  1, -1]))\n"
          ]
        }
      ],
      "source": [
        "braid.shift_right_with_amount(amount=3)\n",
        "print(braid.values())"
      ]
    },
    {
      "cell_type": "markdown",
      "metadata": {
        "id": "yTvy2QlDcy8w"
      },
      "source": [
        "##Braid relation1 and shift right\n",
        "\n"
      ]
    },
    {
      "cell_type": "code",
      "execution_count": 35,
      "metadata": {
        "id": "QXTpzYhadMLD"
      },
      "outputs": [],
      "source": [
        "braid = kp.Braid([1,2,1,3,4])"
      ]
    },
    {
      "cell_type": "code",
      "execution_count": 36,
      "metadata": {
        "colab": {
          "base_uri": "https://localhost:8080/"
        },
        "id": "TwvtPV2sdR_S",
        "outputId": "44255329-75e2-47bf-e7d7-8965427b559f"
      },
      "outputs": [
        {
          "name": "stdout",
          "output_type": "stream",
          "text": [
            "(5, array([3, 4, 2, 1, 2]))\n"
          ]
        }
      ],
      "source": [
        "braid.braid_relation1_and_shift_right()\n",
        "print(braid.values())"
      ]
    },
    {
      "cell_type": "markdown",
      "metadata": {
        "id": "ODhkQLxZdDE7"
      },
      "source": [
        "##Braid relation2 and shift right"
      ]
    },
    {
      "cell_type": "code",
      "execution_count": 37,
      "metadata": {
        "id": "IgaW0hssc_dt"
      },
      "outputs": [],
      "source": [
        "braid = kp.Braid([1,2,1,3,4])"
      ]
    },
    {
      "cell_type": "code",
      "execution_count": 38,
      "metadata": {
        "colab": {
          "base_uri": "https://localhost:8080/"
        },
        "id": "eTAAIIDJdhkB",
        "outputId": "a7192265-bc8d-4b95-858a-0344276a5de4"
      },
      "outputs": [
        {
          "name": "stdout",
          "output_type": "stream",
          "text": [
            "(5, array([4, 1, 2, 3, 1]))\n"
          ]
        }
      ],
      "source": [
        "braid.braid_relation2_and_shift_right()\n",
        "print(braid.values())"
      ]
    },
    {
      "cell_type": "markdown",
      "metadata": {},
      "source": [
        "#Remove sigma and inverse"
      ]
    },
    {
      "cell_type": "code",
      "execution_count": 39,
      "metadata": {},
      "outputs": [],
      "source": [
        "braid = kp.Braid([1,-1,2,1,3,4,4,-5,5,6,-7,7])"
      ]
    },
    {
      "cell_type": "code",
      "execution_count": 40,
      "metadata": {},
      "outputs": [
        {
          "data": {
            "text/plain": [
              "True"
            ]
          },
          "execution_count": 40,
          "metadata": {},
          "output_type": "execute_result"
        }
      ],
      "source": [
        "braid.is_remove_sigma_inverse_pair_performable(index=0)"
      ]
    },
    {
      "cell_type": "code",
      "execution_count": 41,
      "metadata": {},
      "outputs": [
        {
          "data": {
            "text/plain": [
              "array([ 0,  7, 10], dtype=int64)"
            ]
          },
          "execution_count": 41,
          "metadata": {},
          "output_type": "execute_result"
        }
      ],
      "source": [
        "braid.remove_sigma_inverse_pair_performable_indices()"
      ]
    },
    {
      "cell_type": "code",
      "execution_count": 42,
      "metadata": {},
      "outputs": [],
      "source": [
        "braid = kp.Braid([1,-1,2,1,3,4])"
      ]
    },
    {
      "cell_type": "code",
      "execution_count": 43,
      "metadata": {},
      "outputs": [
        {
          "name": "stdout",
          "output_type": "stream",
          "text": [
            "(5, array([2, 1, 3, 4]))\n"
          ]
        }
      ],
      "source": [
        "braid.remove_sigma_inverse_pair(index=0)\n",
        "print(braid.values())"
      ]
    },
    {
      "cell_type": "markdown",
      "metadata": {},
      "source": [
        "#Performable moves"
      ]
    },
    {
      "cell_type": "code",
      "execution_count": 44,
      "metadata": {},
      "outputs": [],
      "source": [
        "braid = kp.Braid([1,2,1,3,4,1,-1])\n"
      ]
    },
    {
      "cell_type": "code",
      "execution_count": 45,
      "metadata": {},
      "outputs": [
        {
          "data": {
            "text/plain": [
              "[<bound method Braid.shift_left of <knpy.braid.Braid object at 0x00000260ECB453D0>>,\n",
              " <bound method Braid.shift_right of <knpy.braid.Braid object at 0x00000260ECB453D0>>,\n",
              " <bound method Braid.stabilization of <knpy.braid.Braid object at 0x00000260ECB453D0>>,\n",
              " functools.partial(<bound method Braid.stabilization of <knpy.braid.Braid object at 0x00000260ECB453D0>>, inverse=True),\n",
              " functools.partial(<bound method Braid.conjugation of <knpy.braid.Braid object at 0x00000260ECB453D0>>, index=-4),\n",
              " functools.partial(<bound method Braid.conjugation of <knpy.braid.Braid object at 0x00000260ECB453D0>>, index=-3),\n",
              " functools.partial(<bound method Braid.conjugation of <knpy.braid.Braid object at 0x00000260ECB453D0>>, index=-2),\n",
              " functools.partial(<bound method Braid.conjugation of <knpy.braid.Braid object at 0x00000260ECB453D0>>, index=-1),\n",
              " functools.partial(<bound method Braid.conjugation of <knpy.braid.Braid object at 0x00000260ECB453D0>>, index=1),\n",
              " functools.partial(<bound method Braid.conjugation of <knpy.braid.Braid object at 0x00000260ECB453D0>>, index=2),\n",
              " functools.partial(<bound method Braid.conjugation of <knpy.braid.Braid object at 0x00000260ECB453D0>>, index=3),\n",
              " functools.partial(<bound method Braid.conjugation of <knpy.braid.Braid object at 0x00000260ECB453D0>>, index=4),\n",
              " functools.partial(<bound method Braid.braid_relation1 of <knpy.braid.Braid object at 0x00000260ECB453D0>>, index=0),\n",
              " functools.partial(<bound method Braid.braid_relation2 of <knpy.braid.Braid object at 0x00000260ECB453D0>>, index=2),\n",
              " functools.partial(<bound method Braid.braid_relation2 of <knpy.braid.Braid object at 0x00000260ECB453D0>>, index=4),\n",
              " functools.partial(<bound method Braid.remove_sigma_inverse_pair of <knpy.braid.Braid object at 0x00000260ECB453D0>>, index=5),\n",
              " functools.partial(<bound method Braid.remove_sigma_inverse_pair of <knpy.braid.Braid object at 0x00000260ECB453D0>>, index=6)]"
            ]
          },
          "execution_count": 45,
          "metadata": {},
          "output_type": "execute_result"
        }
      ],
      "source": [
        "braid.performable_moves()"
      ]
    },
    {
      "cell_type": "code",
      "execution_count": 46,
      "metadata": {},
      "outputs": [
        {
          "name": "stdout",
          "output_type": "stream",
          "text": [
            "(5, array([2, 1, 3, 4, 1]))\n"
          ]
        }
      ],
      "source": [
        "braid.performable_moves()[-1]()\n",
        "print(braid.values())"
      ]
    },
    {
      "cell_type": "code",
      "execution_count": null,
      "metadata": {},
      "outputs": [],
      "source": []
    }
  ],
  "metadata": {
    "colab": {
      "provenance": []
    },
    "kernelspec": {
      "display_name": "knpy",
      "language": "python",
      "name": "python3"
    },
    "language_info": {
      "codemirror_mode": {
        "name": "ipython",
        "version": 3
      },
      "file_extension": ".py",
      "mimetype": "text/x-python",
      "name": "python",
      "nbconvert_exporter": "python",
      "pygments_lexer": "ipython3",
      "version": "3.12.7"
    }
  },
  "nbformat": 4,
  "nbformat_minor": 0
}
